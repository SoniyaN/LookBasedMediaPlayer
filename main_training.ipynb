{
 "cells": [
  {
   "cell_type": "code",
   "execution_count": 1,
   "metadata": {},
   "outputs": [
    {
     "name": "stdout",
     "output_type": "stream",
     "text": [
      "['forward', 'none', 'reverse', 'stop']\n",
      "There are 4 total categories.\n",
      "['forward', 'none', 'reverse', 'stop']\n",
      "There are 624 total burn images.\n",
      "\n",
      "There are 312 training images.\n",
      "There are 312 test images.\n"
     ]
    }
   ],
   "source": [
    "from sklearn.datasets import load_files       \n",
    "from keras.utils import np_utils\n",
    "import numpy as np\n",
    "from glob import glob\n",
    "\n",
    "tar=4\n",
    "path='./Number'\n",
    "# define function to load train, test, and validation datasets\n",
    "def load_dataset(path):\n",
    "    data = load_files(path)\n",
    "    files = np.array(data['filenames'])\n",
    "    targets = np_utils.to_categorical(np.array(data['target']), tar)\n",
    "    return files, targets\n",
    "\n",
    "# load train, test, and validation datasets\n",
    "train_files, train_targets = load_dataset(path)\n",
    "\n",
    "test_files=train_files\n",
    "test_targets = train_targets\n",
    "\n",
    "# get the burn classes\n",
    "# We only take the characters from a starting position to remove the path\n",
    "#burn_classes = [item[11:-1] for item in sorted(glob(path))]\n",
    "burn_classes = [item[9:-1] for item in sorted(glob(\"./Number/*/\"))]\n",
    "print(burn_classes)\n",
    "# print statistics about the dataset\n",
    "print('There are %d total categories.' % len(burn_classes))\n",
    "print(burn_classes)\n",
    "print('There are %s total burn images.\\n' % len(np.hstack([train_files, test_files])))\n",
    "print('There are %d training images.' % len(train_files))\n",
    "print('There are %d test images.'% len(test_files))\n",
    "\n",
    "for file in train_files: assert('.DS_Store' not in file)\n"
   ]
  },
  {
   "cell_type": "code",
   "execution_count": 2,
   "metadata": {},
   "outputs": [],
   "source": [
    "from keras.preprocessing import image                  \n",
    "from tqdm import tqdm\n",
    "\n",
    "# Note: modified these two functions, so that we can later also read the inception tensors which \n",
    "# have a different format \n",
    "def path_to_tensor(img_path, width=224, height=224):\n",
    "    # loads RGB image as PIL.Image.Image type\n",
    "    img = image.load_img(img_path, target_size=(width, height))\n",
    "    # convert PIL.Image.Image type to 3D tensor with shape (width, heigth, 3)\n",
    "    x = image.img_to_array(img)\n",
    "    # convert 3D tensor to 4D tensor with shape (1, width, height, 3) and return 4D tensor\n",
    "    return np.expand_dims(x, axis=0)\n",
    "\n",
    "def paths_to_tensor(img_paths, width=224, height=224):\n",
    "    list_of_tensors = [path_to_tensor(img_path, width, height) for img_path in tqdm(img_paths)]\n",
    "    return np.vstack(list_of_tensors)"
   ]
  },
  {
   "cell_type": "code",
   "execution_count": 3,
   "metadata": {},
   "outputs": [],
   "source": [
    "import keras\n",
    "import timeit\n",
    "\n",
    "# graph the history of model.fit\n",
    "def show_history_graph(history):\n",
    "    # summarize history for accuracy\n",
    "    plt.plot(history.history['accuracy'])\n",
    "    plt.plot(history.history['val_accuracy'])\n",
    "    plt.title('model accuracy')\n",
    "    plt.ylabel('accuracy')\n",
    "    plt.xlabel('epoch')\n",
    "    plt.legend(['train', 'validation'], loc='upper left')\n",
    "    plt.show()\n",
    "    # summarize history for loss\n",
    "    plt.plot(history.history['loss'])\n",
    "    plt.plot(history.history['val_loss'])\n",
    "    plt.title('model loss')\n",
    "    plt.ylabel('loss')\n",
    "    plt.xlabel('epoch')\n",
    "    plt.legend(['train', 'validation'], loc='upper left')\n",
    "    plt.show() \n"
   ]
  },
  {
   "cell_type": "code",
   "execution_count": 4,
   "metadata": {},
   "outputs": [],
   "source": [
    "# callback to show the total time taken during training and for each epoch\n",
    "class EpochTimer(keras.callbacks.Callback):\n",
    "    train_start = 0\n",
    "    train_end = 0\n",
    "    epoch_start = 0\n",
    "    epoch_end = 0\n",
    "    \n",
    "    def get_time(self):\n",
    "        return timeit.default_timer()\n",
    "\n",
    "    def on_train_begin(self, logs={}):\n",
    "        self.train_start = self.get_time()\n",
    " \n",
    "    def on_train_end(self, logs={}):\n",
    "        self.train_end = self.get_time()\n",
    "        print('Training took {} seconds'.format(self.train_end - self.train_start))\n",
    " \n",
    "    def on_epoch_begin(self, epoch, logs={}):\n",
    "        self.epoch_start = self.get_time()\n",
    " \n",
    "    def on_epoch_end(self, epoch, logs={}):\n",
    "        self.epoch_end = self.get_time()\n",
    "        print('Epoch {} took {} seconds'.format(epoch, self.epoch_end - self.epoch_start))"
   ]
  },
  {
   "cell_type": "code",
   "execution_count": 5,
   "metadata": {},
   "outputs": [
    {
     "name": "stderr",
     "output_type": "stream",
     "text": [
      "100%|███████████████████████████████████████████████████████████████████████████████| 312/312 [00:01<00:00, 165.38it/s]\n",
      "100%|███████████████████████████████████████████████████████████████████████████████| 312/312 [00:01<00:00, 186.37it/s]\n"
     ]
    }
   ],
   "source": [
    "from PIL import ImageFile                            \n",
    "ImageFile.LOAD_TRUNCATED_IMAGES = True                 \n",
    "\n",
    "# pre-process the data for Keras\n",
    "train_tensors = paths_to_tensor(train_files).astype('float32')/255\n",
    "test_tensors = paths_to_tensor(test_files).astype('float32')/255\n"
   ]
  },
  {
   "cell_type": "code",
   "execution_count": 6,
   "metadata": {},
   "outputs": [],
   "source": [
    "from keras.layers import Conv2D, MaxPooling2D, GlobalAveragePooling2D\n",
    "from keras.layers import Dropout, Flatten, Dense\n",
    "from keras.models import Sequential\n",
    "from keras.models import Model\n",
    "from keras.callbacks import ModelCheckpoint \n",
    "\n",
    "import matplotlib.pyplot as plt\n",
    "\n",
    "img_width, img_height = 224, 224\n",
    "batch_size = 8\n",
    "num_classes = 4\n",
    "epoch=25\n",
    "\n",
    "\n"
   ]
  },
  {
   "cell_type": "code",
   "execution_count": 7,
   "metadata": {},
   "outputs": [],
   "source": [
    "img_width, img_height = img_width, img_height\n",
    "batch_size = 32\n",
    "samples_per_epoch = 10\n",
    "validation_steps = 300\n",
    "nb_filters1 = 32\n",
    "nb_filters2 = 64\n",
    "conv1_size = 3\n",
    "conv2_size = 3\n",
    "pool_size = 3\n",
    "classes_num = 4\n",
    "lr = 0.0004"
   ]
  },
  {
   "cell_type": "code",
   "execution_count": 8,
   "metadata": {},
   "outputs": [
    {
     "name": "stdout",
     "output_type": "stream",
     "text": [
      "Epoch 1/25\n",
      "5/5 [==============================] - 3s 588ms/step - loss: 1.3142 - accuracy: 0.3893 - val_loss: 1.1929 - val_accuracy: 0.4688\n",
      "Epoch 2/25\n",
      "5/5 [==============================] - 1s 249ms/step - loss: 1.1226 - accuracy: 0.5500 - val_loss: 1.0278 - val_accuracy: 0.7188\n",
      "Epoch 3/25\n",
      "5/5 [==============================] - 1s 218ms/step - loss: 0.9875 - accuracy: 0.7143 - val_loss: 0.8836 - val_accuracy: 0.6250\n",
      "Epoch 4/25\n",
      "5/5 [==============================] - 1s 223ms/step - loss: 0.8554 - accuracy: 0.7214 - val_loss: 0.7787 - val_accuracy: 0.7188\n",
      "Epoch 5/25\n",
      "5/5 [==============================] - 1s 222ms/step - loss: 0.7672 - accuracy: 0.7714 - val_loss: 0.6024 - val_accuracy: 0.8750\n",
      "Epoch 6/25\n",
      "5/5 [==============================] - 1s 223ms/step - loss: 0.6767 - accuracy: 0.8250 - val_loss: 0.5254 - val_accuracy: 0.9062\n",
      "Epoch 7/25\n",
      "5/5 [==============================] - 1s 236ms/step - loss: 0.6060 - accuracy: 0.8536 - val_loss: 0.4829 - val_accuracy: 0.9062\n",
      "Epoch 8/25\n",
      "5/5 [==============================] - 2s 330ms/step - loss: 0.5453 - accuracy: 0.8607 - val_loss: 0.4290 - val_accuracy: 0.9062\n",
      "Epoch 9/25\n",
      "5/5 [==============================] - 1s 225ms/step - loss: 0.4921 - accuracy: 0.8821 - val_loss: 0.4060 - val_accuracy: 0.9062\n",
      "Epoch 10/25\n",
      "5/5 [==============================] - 1s 222ms/step - loss: 0.4322 - accuracy: 0.9036 - val_loss: 0.3270 - val_accuracy: 0.8750\n",
      "Epoch 11/25\n",
      "5/5 [==============================] - 1s 251ms/step - loss: 0.3989 - accuracy: 0.8750 - val_loss: 0.3122 - val_accuracy: 0.9062\n",
      "Epoch 12/25\n",
      "5/5 [==============================] - 1s 229ms/step - loss: 0.3399 - accuracy: 0.9179 - val_loss: 0.3527 - val_accuracy: 0.9375\n",
      "Epoch 13/25\n",
      "5/5 [==============================] - 1s 223ms/step - loss: 0.3310 - accuracy: 0.9179 - val_loss: 0.3767 - val_accuracy: 0.8750\n",
      "Epoch 14/25\n",
      "5/5 [==============================] - 1s 221ms/step - loss: 0.2917 - accuracy: 0.9286 - val_loss: 0.2459 - val_accuracy: 0.9375\n",
      "Epoch 15/25\n",
      "5/5 [==============================] - 1s 220ms/step - loss: 0.2552 - accuracy: 0.9393 - val_loss: 0.2107 - val_accuracy: 0.9062\n",
      "Epoch 16/25\n",
      "5/5 [==============================] - 2s 339ms/step - loss: 0.2366 - accuracy: 0.9429 - val_loss: 0.2284 - val_accuracy: 0.9062\n",
      "Epoch 17/25\n",
      "5/5 [==============================] - 1s 220ms/step - loss: 0.2219 - accuracy: 0.9143 - val_loss: 0.2050 - val_accuracy: 0.9375\n",
      "Epoch 18/25\n",
      "5/5 [==============================] - 1s 220ms/step - loss: 0.2123 - accuracy: 0.9321 - val_loss: 0.1497 - val_accuracy: 0.9375\n",
      "Epoch 19/25\n",
      "5/5 [==============================] - 1s 220ms/step - loss: 0.1854 - accuracy: 0.9536 - val_loss: 0.1560 - val_accuracy: 0.9688\n",
      "Epoch 20/25\n",
      "5/5 [==============================] - 1s 220ms/step - loss: 0.1404 - accuracy: 0.9607 - val_loss: 0.1834 - val_accuracy: 0.9062\n",
      "Epoch 21/25\n",
      "5/5 [==============================] - 1s 218ms/step - loss: 0.1394 - accuracy: 0.9679 - val_loss: 0.1356 - val_accuracy: 0.9375\n",
      "Epoch 22/25\n",
      "5/5 [==============================] - 1s 225ms/step - loss: 0.1158 - accuracy: 0.9786 - val_loss: 0.2007 - val_accuracy: 0.9062\n",
      "Epoch 23/25\n",
      "5/5 [==============================] - 1s 222ms/step - loss: 0.1388 - accuracy: 0.9643 - val_loss: 0.1187 - val_accuracy: 0.9375\n",
      "Epoch 24/25\n",
      "5/5 [==============================] - 1s 222ms/step - loss: 0.1056 - accuracy: 0.9750 - val_loss: 0.0824 - val_accuracy: 0.9688\n",
      "Epoch 25/25\n",
      "5/5 [==============================] - 1s 207ms/step - loss: 0.0750 - accuracy: 0.9857 - val_loss: 0.0922 - val_accuracy: 1.0000\n",
      "10/10 [==============================] - 1s 54ms/step - loss: 0.0632 - accuracy: 0.9936\n"
     ]
    }
   ],
   "source": [
    "from keras import optimizers\n",
    "from keras.models import Sequential\n",
    "from keras.layers import Dropout, Flatten, Dense, Activation\n",
    "from keras.layers.convolutional import Convolution2D, MaxPooling2D\n",
    "from keras import callbacks\n",
    "import time\n",
    "\n",
    "#input_shape=(img_width, img_height,3)\n",
    "model = Sequential()\n",
    "model.add(Convolution2D(nb_filters1, conv1_size, conv1_size, padding='same', input_shape=(img_width, img_height, 3)))\n",
    "model.add(Activation(\"relu\"))\n",
    "model.add(MaxPooling2D(pool_size=(pool_size, pool_size)))\n",
    "\n",
    "model.add(Convolution2D(nb_filters2, conv2_size, conv2_size, padding='same'))\n",
    "model.add(Activation(\"relu\"))\n",
    "model.add(MaxPooling2D(pool_size=(pool_size, pool_size)))\n",
    "model.add(Flatten())\n",
    "model.add(Dense(256))\n",
    "model.add(Activation(\"relu\"))\n",
    "model.add(Dropout(0.5))\n",
    "model.add(Dense(tar, activation='softmax'))\n",
    "\n",
    "model.compile(loss='categorical_crossentropy',\n",
    "              optimizer=optimizers.RMSprop(lr=lr),\n",
    "              metrics=['accuracy'])\n",
    "\n",
    "hist=model.fit(train_tensors, train_targets ,validation_split=0.1, epochs=epoch, batch_size=64)\n",
    "\n",
    "test_loss, test_acc = model.evaluate(train_tensors, train_targets)\n",
    "\n",
    "y_pred=model.predict(test_tensors)"
   ]
  },
  {
   "cell_type": "code",
   "execution_count": 9,
   "metadata": {},
   "outputs": [
    {
     "name": "stdout",
     "output_type": "stream",
     "text": [
      "0.06316523998975754 0.9935897588729858\n"
     ]
    }
   ],
   "source": [
    "print(test_loss, test_acc)"
   ]
  },
  {
   "cell_type": "code",
   "execution_count": 10,
   "metadata": {},
   "outputs": [
    {
     "data": {
      "image/png": "[encoded data removed]",
      "text/plain": [
       "<Figure size 432x288 with 1 Axes>"
      ]
     },
     "metadata": {
      "needs_background": "light"
     },
     "output_type": "display_data"
    },
    {
     "data": {
      "image/png": "[encoded data removed]",
      "text/plain": [
       "<Figure size 432x288 with 1 Axes>"
      ]
     },
     "metadata": {
      "needs_background": "light"
     },
     "output_type": "display_data"
    }
   ],
   "source": [
    "show_history_graph(hist)"
   ]
  },
  {
   "cell_type": "code",
   "execution_count": 11,
   "metadata": {},
   "outputs": [
    {
     "name": "stdout",
     "output_type": "stream",
     "text": [
      "SB_DNN confusion matrics= [[ 80   0   0   0]\n",
      " [  0 103   0   0]\n",
      " [  1   1  67   0]\n",
      " [  0   0   0  60]]\n",
      "  \n",
      "SB_DNN accuracy= 99.35897435897436\n"
     ]
    }
   ],
   "source": [
    "from sklearn.metrics import confusion_matrix,accuracy_score\n",
    "cm = confusion_matrix(np.argmax(test_targets, axis=1),np.argmax(y_pred, axis=1))\n",
    "\n",
    "accuracydnn = accuracy_score(np.argmax(test_targets, axis=1),np.argmax(y_pred, axis=1))\n",
    "print(\"SB_DNN confusion matrics=\",cm)\n",
    "print(\"  \")\n",
    "print(\"SB_DNN accuracy=\",accuracydnn*100)"
   ]
  },
  {
   "cell_type": "code",
   "execution_count": 12,
   "metadata": {},
   "outputs": [
    {
     "data": {
      "image/png": "[encoded data removed]",
      "text/plain": [
       "<Figure size 576x576 with 1 Axes>"
      ]
     },
     "metadata": {
      "needs_background": "light"
     },
     "output_type": "display_data"
    }
   ],
   "source": [
    "from sklearn.metrics import roc_curve\n",
    "# Calculate ROC curve from y_test and pred\n",
    "fpr, tpr, thresholds = roc_curve(np.argmax(test_targets, axis=1)>=1,np.argmax(y_pred, axis=1)>=1)\n",
    "\n",
    "\n",
    "\n",
    "# Plot the ROC curve\n",
    "fig = plt.figure(figsize=(8,8))\n",
    "plt.title('Receiver Operating Characteristic')\n",
    "\n",
    "# Plot ROC curve\n",
    "plt.plot(fpr, tpr, label='l1')\n",
    "plt.legend(loc='lower right')\n",
    "\n",
    "# Diagonal 45 degree line\n",
    "plt.plot([0,1],[0,1],'k--')\n",
    "\n",
    "# Axes limits and labels\n",
    "plt.xlim([-0.1,1.1])\n",
    "plt.ylim([-0.1,1.1])\n",
    "plt.ylabel('DNN True Positive Rate')\n",
    "plt.xlabel('DNN False Positive Rate')\n",
    "plt.show()"
   ]
  },
  {
   "cell_type": "code",
   "execution_count": null,
   "metadata": {},
   "outputs": [],
   "source": [
    "#model.save('color_trained_modelDNN.h5')\n",
    "model.save('trained_modelDNN.h5')\n"
   ]
  }
 ],
 "metadata": {
  "kernelspec": {
   "display_name": "Python 3",
   "language": "python",
   "name": "python3"
  },
  "language_info": {
   "codemirror_mode": {
    "name": "ipython",
    "version": 3
   },
   "file_extension": ".py",
   "mimetype": "text/x-python",
   "name": "python",
   "nbconvert_exporter": "python",
   "pygments_lexer": "ipython3",
   "version": "3.6.5"
  }
 },
 "nbformat": 4,
 "nbformat_minor": 4
}
